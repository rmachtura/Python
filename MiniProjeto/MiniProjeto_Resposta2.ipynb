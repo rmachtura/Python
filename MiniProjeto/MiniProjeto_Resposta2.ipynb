{
 "cells": [
  {
   "cell_type": "code",
   "execution_count": 1,
   "id": "8c70d193",
   "metadata": {},
   "outputs": [],
   "source": [
    "import re\n",
    "import time\n",
    "import sqlite3\n",
    "import pycountry\n",
    "import numpy as np\n",
    "import pandas as pd\n",
    "import matplotlib.pyplot as plt\n",
    "import seaborn as sns\n",
    "from matplotlib import cm\n",
    "from sklearn.feature_extraction.text import CountVectorizer\n",
    "import warnings\n",
    "warnings.filterwarnings(\"ignore\")\n",
    "sns.set_theme(style = \"whitegrid\")"
   ]
  },
  {
   "cell_type": "code",
   "execution_count": 2,
   "id": "7af105ac",
   "metadata": {},
   "outputs": [],
   "source": [
    "conn = sqlite3.connect(\"imdb.db\")"
   ]
  },
  {
   "cell_type": "code",
   "execution_count": 4,
   "id": "0243ae66",
   "metadata": {},
   "outputs": [],
   "source": [
    "tabelas = pd.read_sql_query(\"SELECT NAME AS 'table_name' FROM sqlite_master WHERE type = 'table'\", conn)"
   ]
  },
  {
   "cell_type": "code",
   "execution_count": 5,
   "id": "ceae62d5",
   "metadata": {},
   "outputs": [],
   "source": [
    "tabelas = tabelas[\"table_name\"].values.tolist()"
   ]
  },
  {
   "cell_type": "code",
   "execution_count": 6,
   "id": "e3ca6529",
   "metadata": {},
   "outputs": [],
   "source": [
    "consulta2 = '''SELECT genres, COUNT(*) FROM titles WHERE type = 'movie'GROUP BY genres'''"
   ]
  },
  {
   "cell_type": "code",
   "execution_count": 7,
   "id": "72435616",
   "metadata": {},
   "outputs": [],
   "source": [
    "resultado2 = pd.read_sql_query(consulta2, conn)"
   ]
  },
  {
   "cell_type": "code",
   "execution_count": 8,
   "id": "df8c5ddd",
   "metadata": {},
   "outputs": [
    {
     "data": {
      "text/html": [
       "<div>\n",
       "<style scoped>\n",
       "    .dataframe tbody tr th:only-of-type {\n",
       "        vertical-align: middle;\n",
       "    }\n",
       "\n",
       "    .dataframe tbody tr th {\n",
       "        vertical-align: top;\n",
       "    }\n",
       "\n",
       "    .dataframe thead th {\n",
       "        text-align: right;\n",
       "    }\n",
       "</style>\n",
       "<table border=\"1\" class=\"dataframe\">\n",
       "  <thead>\n",
       "    <tr style=\"text-align: right;\">\n",
       "      <th></th>\n",
       "      <th>genres</th>\n",
       "      <th>COUNT(*)</th>\n",
       "    </tr>\n",
       "  </thead>\n",
       "  <tbody>\n",
       "    <tr>\n",
       "      <th>0</th>\n",
       "      <td>Action</td>\n",
       "      <td>13731</td>\n",
       "    </tr>\n",
       "    <tr>\n",
       "      <th>1</th>\n",
       "      <td>Action,Adult</td>\n",
       "      <td>11</td>\n",
       "    </tr>\n",
       "    <tr>\n",
       "      <th>2</th>\n",
       "      <td>Action,Adult,Adventure</td>\n",
       "      <td>2</td>\n",
       "    </tr>\n",
       "    <tr>\n",
       "      <th>3</th>\n",
       "      <td>Action,Adult,Comedy</td>\n",
       "      <td>5</td>\n",
       "    </tr>\n",
       "    <tr>\n",
       "      <th>4</th>\n",
       "      <td>Action,Adult,Crime</td>\n",
       "      <td>10</td>\n",
       "    </tr>\n",
       "    <tr>\n",
       "      <th>...</th>\n",
       "      <td>...</td>\n",
       "      <td>...</td>\n",
       "    </tr>\n",
       "    <tr>\n",
       "      <th>1447</th>\n",
       "      <td>Thriller,Western</td>\n",
       "      <td>43</td>\n",
       "    </tr>\n",
       "    <tr>\n",
       "      <th>1448</th>\n",
       "      <td>War</td>\n",
       "      <td>1282</td>\n",
       "    </tr>\n",
       "    <tr>\n",
       "      <th>1449</th>\n",
       "      <td>War,Western</td>\n",
       "      <td>13</td>\n",
       "    </tr>\n",
       "    <tr>\n",
       "      <th>1450</th>\n",
       "      <td>Western</td>\n",
       "      <td>5111</td>\n",
       "    </tr>\n",
       "    <tr>\n",
       "      <th>1451</th>\n",
       "      <td>\\N</td>\n",
       "      <td>71186</td>\n",
       "    </tr>\n",
       "  </tbody>\n",
       "</table>\n",
       "<p>1452 rows × 2 columns</p>\n",
       "</div>"
      ],
      "text/plain": [
       "                      genres  COUNT(*)\n",
       "0                     Action     13731\n",
       "1               Action,Adult        11\n",
       "2     Action,Adult,Adventure         2\n",
       "3        Action,Adult,Comedy         5\n",
       "4         Action,Adult,Crime        10\n",
       "...                      ...       ...\n",
       "1447        Thriller,Western        43\n",
       "1448                     War      1282\n",
       "1449             War,Western        13\n",
       "1450                 Western      5111\n",
       "1451                      \\N     71186\n",
       "\n",
       "[1452 rows x 2 columns]"
      ]
     },
     "metadata": {},
     "output_type": "display_data"
    }
   ],
   "source": [
    "display(resultado2)"
   ]
  },
  {
   "cell_type": "code",
   "execution_count": 9,
   "id": "b7a3b117",
   "metadata": {},
   "outputs": [],
   "source": [
    "#converter para letra minuscula\n",
    "resultado2['genres'] = resultado2['genres'].str.lower().values"
   ]
  },
  {
   "cell_type": "code",
   "execution_count": 10,
   "id": "7a85eaca",
   "metadata": {},
   "outputs": [],
   "source": [
    "#remover os valores na DROPNA\n",
    "temp = resultado2['genres'].dropna()"
   ]
  },
  {
   "cell_type": "code",
   "execution_count": 11,
   "id": "db8a7d3b",
   "metadata": {},
   "outputs": [],
   "source": [
    "#one-hot encoded usado bastante em deep learning\n",
    "#a ideia é receber em uma coluna os nomes dos generos, transformar isso em uma matriz esparsa\n",
    "# que irá numerar a quantidade de itens para cada tipo de genero, facilitando a contagem posterior\n",
    "#acessar a documentação do sklearn.feature_extraction.text.CountVectorizer"
   ]
  },
  {
   "cell_type": "code",
   "execution_count": 12,
   "id": "caee665e",
   "metadata": {},
   "outputs": [],
   "source": [
    "#Criar um vetor usando uma expressão regular para filtrar as strings\n",
    "padrao = '(?u)\\\\b[\\\\w-]+\\\\b'\n",
    "vetor = CountVectorizer(token_pattern= padrao, analyzer = 'word').fit(temp)"
   ]
  },
  {
   "cell_type": "code",
   "execution_count": 13,
   "id": "0b2c5826",
   "metadata": {},
   "outputs": [
    {
     "data": {
      "text/plain": [
       "sklearn.feature_extraction.text.CountVectorizer"
      ]
     },
     "execution_count": 13,
     "metadata": {},
     "output_type": "execute_result"
    }
   ],
   "source": [
    "type(vetor)"
   ]
  },
  {
   "cell_type": "code",
   "execution_count": 14,
   "id": "ff551d01",
   "metadata": {},
   "outputs": [],
   "source": [
    "bag_generos = vetor.transform(temp)"
   ]
  },
  {
   "cell_type": "code",
   "execution_count": 15,
   "id": "aaca676e",
   "metadata": {},
   "outputs": [
    {
     "data": {
      "text/plain": [
       "scipy.sparse.csr.csr_matrix"
      ]
     },
     "execution_count": 15,
     "metadata": {},
     "output_type": "execute_result"
    }
   ],
   "source": [
    "type(bag_generos)"
   ]
  },
  {
   "cell_type": "code",
   "execution_count": 16,
   "id": "4ff9b75f",
   "metadata": {},
   "outputs": [],
   "source": [
    "generos_unicos = vetor.get_feature_names()"
   ]
  },
  {
   "cell_type": "code",
   "execution_count": 17,
   "id": "f5c372e1",
   "metadata": {},
   "outputs": [],
   "source": [
    "generos = pd.DataFrame(bag_generos.todense(), columns = generos_unicos, index = temp.index)"
   ]
  },
  {
   "cell_type": "code",
   "execution_count": 18,
   "id": "dd26ca6e",
   "metadata": {},
   "outputs": [
    {
     "name": "stdout",
     "output_type": "stream",
     "text": [
      "<class 'pandas.core.frame.DataFrame'>\n",
      "Int64Index: 1452 entries, 0 to 1451\n",
      "Data columns (total 29 columns):\n",
      " #   Column       Non-Null Count  Dtype\n",
      "---  ------       --------------  -----\n",
      " 0   action       1452 non-null   int64\n",
      " 1   adult        1452 non-null   int64\n",
      " 2   adventure    1452 non-null   int64\n",
      " 3   animation    1452 non-null   int64\n",
      " 4   biography    1452 non-null   int64\n",
      " 5   comedy       1452 non-null   int64\n",
      " 6   crime        1452 non-null   int64\n",
      " 7   documentary  1452 non-null   int64\n",
      " 8   drama        1452 non-null   int64\n",
      " 9   family       1452 non-null   int64\n",
      " 10  fantasy      1452 non-null   int64\n",
      " 11  film-noir    1452 non-null   int64\n",
      " 12  game-show    1452 non-null   int64\n",
      " 13  history      1452 non-null   int64\n",
      " 14  horror       1452 non-null   int64\n",
      " 15  music        1452 non-null   int64\n",
      " 16  musical      1452 non-null   int64\n",
      " 17  mystery      1452 non-null   int64\n",
      " 18  n            1452 non-null   int64\n",
      " 19  news         1452 non-null   int64\n",
      " 20  reality-tv   1452 non-null   int64\n",
      " 21  romance      1452 non-null   int64\n",
      " 22  sci-fi       1452 non-null   int64\n",
      " 23  short        1452 non-null   int64\n",
      " 24  sport        1452 non-null   int64\n",
      " 25  talk-show    1452 non-null   int64\n",
      " 26  thriller     1452 non-null   int64\n",
      " 27  war          1452 non-null   int64\n",
      " 28  western      1452 non-null   int64\n",
      "dtypes: int64(29)\n",
      "memory usage: 340.3 KB\n"
     ]
    }
   ],
   "source": [
    "generos.info()"
   ]
  },
  {
   "cell_type": "code",
   "execution_count": 19,
   "id": "f7b6a52f",
   "metadata": {},
   "outputs": [],
   "source": [
    "generos = generos.drop(columns = 'n', axis = 0)"
   ]
  },
  {
   "cell_type": "code",
   "execution_count": 20,
   "id": "535988c3",
   "metadata": {},
   "outputs": [],
   "source": [
    "generos_percentual = 100 * pd.Series(generos.sum()).sort_values(ascending=False) / generos.shape[0]"
   ]
  },
  {
   "cell_type": "code",
   "execution_count": 21,
   "id": "0ebdd2e2",
   "metadata": {},
   "outputs": [
    {
     "data": {
      "text/plain": [
       "drama          18.250689\n",
       "comedy         16.873278\n",
       "documentary    15.977961\n",
       "adventure      14.944904\n",
       "action         14.256198\n",
       "romance        13.360882\n",
       "crime          13.085399\n",
       "mystery        12.396694\n",
       "fantasy        12.258953\n",
       "thriller       12.258953\n",
       "dtype: float64"
      ]
     },
     "execution_count": 21,
     "metadata": {},
     "output_type": "execute_result"
    }
   ],
   "source": [
    "generos_percentual.head(10)"
   ]
  },
  {
   "cell_type": "code",
   "execution_count": 24,
   "id": "dc55252f",
   "metadata": {},
   "outputs": [
    {
     "data": {
      "image/png": "[encoded data removed]",
      "text/plain": [
       "<Figure size 1152x576 with 1 Axes>"
      ]
     },
     "metadata": {},
     "output_type": "display_data"
    }
   ],
   "source": [
    "#plot\n",
    "plt.figure(figsize=(16,8))\n",
    "sns.barplot(x = generos_percentual.values, y = generos_percentual.index, orient= 'h', palette='terrain')\n",
    "plt.ylabel('Gênero')\n",
    "plt.xlabel('\\nPercentual de Filmes (%)')\n",
    "plt.title('\\nNúmero (Percentual) de títulos por Gênero\\n')\n",
    "plt.show()"
   ]
  },
  {
   "cell_type": "code",
   "execution_count": null,
   "id": "52957daa",
   "metadata": {},
   "outputs": [],
   "source": []
  },
  {
   "cell_type": "code",
   "execution_count": null,
   "id": "1e3d363a",
   "metadata": {},
   "outputs": [],
   "source": []
  }
 ],
 "metadata": {
  "kernelspec": {
   "display_name": "Python 3",
   "language": "python",
   "name": "python3"
  },
  "language_info": {
   "codemirror_mode": {
    "name": "ipython",
    "version": 3
   },
   "file_extension": ".py",
   "mimetype": "text/x-python",
   "name": "python",
   "nbconvert_exporter": "python",
   "pygments_lexer": "ipython3",
   "version": "3.8.8"
  }
 },
 "nbformat": 4,
 "nbformat_minor": 5
}
